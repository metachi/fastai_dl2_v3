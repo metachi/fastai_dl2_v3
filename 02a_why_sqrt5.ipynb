{
 "cells": [
  {
   "cell_type": "code",
   "execution_count": 1,
   "metadata": {},
   "outputs": [
    {
     "name": "stdout",
     "output_type": "stream",
     "text": [
      "Installing packages:\n",
      "\t.package(path: \"~/gitrepos/TimeMagic\")\n",
      "\t\tTimeMagic\n",
      "\t.package(url: \"https://github.com/mxcl/Path.swift\", from: \"0.16.1\")\n",
      "\t\tPath\n",
      "With SwiftPM flags: []\n",
      "Working in: /tmp/tmpjolz3341\n",
      "Fetching https://github.com/mxcl/Path.swift\n",
      "Completed resolution in 1.16s\n",
      "Cloning https://github.com/mxcl/Path.swift\n",
      "Resolving https://github.com/mxcl/Path.swift at 0.16.2\n",
      "Compile Swift Module 'TimeMagic' (1 sources)\n",
      "Compile Swift Module 'Path' (9 sources)\n",
      "Compile Swift Module 'jupyterInstalledPackages' (1 sources)\n",
      "Linking ./.build/x86_64-unknown-linux/debug/libjupyterInstalledPackages.so\n",
      "Initializing Swift...\n",
      "Loading library...\n",
      "Installation complete!\n"
     ]
    }
   ],
   "source": [
    "%install '.package(path: \"~/gitrepos/TimeMagic\")' TimeMagic\n",
    "%install '.package(url: \"https://github.com/mxcl/Path.swift\", from: \"0.16.1\")' Path"
   ]
  },
  {
   "cell_type": "code",
   "execution_count": 2,
   "metadata": {},
   "outputs": [],
   "source": [
    "import TimeMagic\n",
    "import Path\n",
    "import TensorFlow\n",
    "import Foundation"
   ]
  },
  {
   "cell_type": "code",
   "execution_count": 3,
   "metadata": {},
   "outputs": [],
   "source": [
    "func loadData(path: String, shape: [Int], is_label: Bool) -> Tensor<Float> {\n",
    "    let dropK: Int = (is_label ? 8 : 16)\n",
    "    let data = try! Data.init(contentsOf: \n",
    "                     URL.init(fileURLWithPath: path)\n",
    "                    ).dropFirst(dropK)\n",
    "    let tensorShape = TensorShape.init(shape)\n",
    "    return Tensor(data.map(Float.init)).reshaped(to: tensorShape)\n",
    "}"
   ]
  },
  {
   "cell_type": "code",
   "execution_count": 4,
   "metadata": {},
   "outputs": [],
   "source": [
    "let basepath = Path.home/\".fastai\"/\"data\"/\"mnist\"\n",
    "let trnImgs = \"train-images-idx3-ubyte\"\n",
    "let trnLbls = \"train-labels-idx1-ubyte\"\n",
    "let valImgs = \"t10k-images-idx3-ubyte\"\n",
    "let valLbls = \"t10k-labels-idx1-ubyte\" "
   ]
  },
  {
   "cell_type": "code",
   "execution_count": 5,
   "metadata": {},
   "outputs": [],
   "source": [
    "var xTrain: Tensor<Float> = loadData(path: (basepath/trnImgs).string,\n",
    "                   shape: [60000, 28, 28, 1],\n",
    "                   is_label: false)/255"
   ]
  },
  {
   "cell_type": "code",
   "execution_count": 6,
   "metadata": {},
   "outputs": [],
   "source": [
    "let yTrain: Tensor<Float> = loadData(path: (basepath/trnLbls).string,\n",
    "                   shape: [60000],\n",
    "                   is_label: true)"
   ]
  },
  {
   "cell_type": "code",
   "execution_count": 7,
   "metadata": {},
   "outputs": [],
   "source": [
    "var xValid: Tensor<Float> = loadData(path: (basepath/valImgs).string,\n",
    "                   shape: [10000, 28, 28, 1],\n",
    "                   is_label: false)/255"
   ]
  },
  {
   "cell_type": "code",
   "execution_count": 8,
   "metadata": {},
   "outputs": [],
   "source": [
    "let yValid: Tensor<Float> = loadData(path: (basepath/valLbls).string,\n",
    "                   shape: [10000],\n",
    "                   is_label: true)"
   ]
  },
  {
   "cell_type": "code",
   "execution_count": 9,
   "metadata": {},
   "outputs": [],
   "source": [
    "public extension Tensor where Scalar : TensorFlowFloatingPoint {\n",
    "    func stddev(alongAxes axes: [Int])-> Tensor<Scalar>{\n",
    "        let mean = self.mean(alongAxes: axes)\n",
    "        return sqrt((self - mean).squared().mean(alongAxes: axes))\n",
    "    }\n",
    "    \n",
    "    func stddev()-> Tensor<Scalar>{\n",
    "        let mean = self.mean()\n",
    "        return sqrt((self - mean).squared().mean())\n",
    "    }\n",
    "}"
   ]
  },
  {
   "cell_type": "code",
   "execution_count": 10,
   "metadata": {},
   "outputs": [],
   "source": [
    "func normalize<Scalar: TensorFlowFloatingPoint>(\n",
    "    _ x: Tensor<Scalar>, _ mean: Tensor<Scalar>? = nil, _ stddev: Tensor<Scalar>? = nil\n",
    ") ->  Tensor<Scalar>{\n",
    "    var mean = (mean ?? x.mean())\n",
    "    var stddev = (stddev ?? x.stddev())\n",
    "    return (x-mean)/stddev\n",
    "}"
   ]
  },
  {
   "cell_type": "code",
   "execution_count": 11,
   "metadata": {},
   "outputs": [],
   "source": [
    "var xTrainNormal: Tensor<Float> = normalize(xTrain)\n",
    "var xValidNormal: Tensor<Float> = normalize(\n",
    "    xValid,\n",
    "    xTrain.mean(),\n",
    "    xTrain.stddev()\n",
    ")"
   ]
  },
  {
   "cell_type": "code",
   "execution_count": 12,
   "metadata": {},
   "outputs": [],
   "source": [
    "var l1 = Conv2D<Float>(filterShape: (5, 5, 1, 32) )"
   ]
  },
  {
   "cell_type": "code",
   "execution_count": 13,
   "metadata": {
    "scrolled": true
   },
   "outputs": [
    {
     "data": {
      "text/plain": [
       "▿ TensorShape\n",
       "  ▿ dimensions : 4 elements\n",
       "    - 0 : 5\n",
       "    - 1 : 5\n",
       "    - 2 : 1\n",
       "    - 3 : 32\n"
      ]
     },
     "execution_count": 13,
     "metadata": {},
     "output_type": "execute_result"
    }
   ],
   "source": [
    "l1.filter.shape"
   ]
  },
  {
   "cell_type": "code",
   "execution_count": 14,
   "metadata": {},
   "outputs": [
    {
     "data": {
      "text/plain": [
       "▿ TensorShape\n",
       "  ▿ dimensions : 1 element\n",
       "    - 0 : 32\n"
      ]
     },
     "execution_count": 14,
     "metadata": {},
     "output_type": "execute_result"
    }
   ],
   "source": [
    "l1.bias.shape"
   ]
  },
  {
   "cell_type": "code",
   "execution_count": 15,
   "metadata": {},
   "outputs": [],
   "source": [
    "var x = xValidNormal[0..<100]"
   ]
  },
  {
   "cell_type": "code",
   "execution_count": 16,
   "metadata": {},
   "outputs": [
    {
     "data": {
      "text/plain": [
       "▿ TensorShape\n",
       "  ▿ dimensions : 4 elements\n",
       "    - 0 : 100\n",
       "    - 1 : 28\n",
       "    - 2 : 28\n",
       "    - 3 : 1\n"
      ]
     },
     "execution_count": 16,
     "metadata": {},
     "output_type": "execute_result"
    }
   ],
   "source": [
    "x.shape"
   ]
  },
  {
   "cell_type": "code",
   "execution_count": 17,
   "metadata": {},
   "outputs": [],
   "source": [
    "func stats<Scalar: TensorFlowFloatingPoint>(\n",
    "    _ x: Tensor<Scalar>\n",
    ") -> (mean: Tensor<Scalar>, stddev: Tensor<Scalar>){\n",
    "    return (mean: x.mean(), stddev: x.stddev())\n",
    "}"
   ]
  },
  {
   "cell_type": "code",
   "execution_count": 18,
   "metadata": {},
   "outputs": [
    {
     "data": {
      "text/plain": [
       "▿ 2 elements\n",
       "  - mean : -0.034978602\n",
       "  - stddev : 0.960318\n"
      ]
     },
     "execution_count": 18,
     "metadata": {},
     "output_type": "execute_result"
    }
   ],
   "source": [
    "stats(x)"
   ]
  },
  {
   "cell_type": "code",
   "execution_count": 19,
   "metadata": {},
   "outputs": [
    {
     "data": {
      "text/plain": [
       "▿ 2 elements\n",
       "  - mean : -0.00042266754\n",
       "  - stddev : 0.04894589\n"
      ]
     },
     "execution_count": 19,
     "metadata": {},
     "output_type": "execute_result"
    }
   ],
   "source": [
    "stats(l1.filter)"
   ]
  },
  {
   "cell_type": "code",
   "execution_count": 20,
   "metadata": {},
   "outputs": [
    {
     "data": {
      "text/plain": [
       "▿ 2 elements\n",
       "  - mean : 0.0\n",
       "  - stddev : 0.0\n"
      ]
     },
     "execution_count": 20,
     "metadata": {},
     "output_type": "execute_result"
    }
   ],
   "source": [
    "stats(l1.bias)"
   ]
  },
  {
   "cell_type": "code",
   "execution_count": 21,
   "metadata": {},
   "outputs": [],
   "source": [
    "//for some reason max(Scalar, Tensor<Scalar>) is non-differentiable\n",
    "//...not in real life, just according to Swift. so i am doing max(Tensor, Tensor)\n",
    "@differentiable(wrt: x)\n",
    "func leakyRelu<Scalar: TensorFlowFloatingPoint>(\n",
    "    _ x: Tensor<Scalar>,\n",
    "    _ negativeSlope: Scalar=0.01\n",
    ") -> Tensor<Scalar> {\n",
    "    return max(Tensor(zeros:x.shape), x) + negativeSlope * min(Tensor(zeros:x.shape), x)\n",
    "}"
   ]
  },
  {
   "cell_type": "code",
   "execution_count": 22,
   "metadata": {},
   "outputs": [],
   "source": [
    "public extension Tensor where Scalar : TensorFlowFloatingPoint {\n",
    "    //can handle relu and leakyRelu activations\n",
    "    //note: pytorch does neg slope 0.01 for leakyRelu and 0 for relu\n",
    "    init(kaimingNormal shape: TensorShape, negativeSlope: Scalar=0){\n",
    "        let gain: Scalar = (negativeSlope==0) ? sqrt(2.0) : sqrt(2.0/(1.0 + negativeSlope*negativeSlope))\n",
    "        \n",
    "        // see kaiming_normal_ in:\n",
    "        // torch/nn/init.py\n",
    "        let filterDimRank = shape.rank - 2\n",
    "        let receptiveField: Scalar = Scalar(shape[0..<filterDimRank].contiguousSize)\n",
    "        let inputFmaps: Scalar = Scalar(shape[shape.rank - 2])\n",
    "//         let outputFmaps: Scalar = Scalar(shape[shape.rank - 1])\n",
    "        let fanIn: Scalar = receptiveField * inputFmaps\n",
    "//         let fanOut: Scalar = receptiveField * outputFmaps\n",
    "        self = Tensor(randomNormal: shape) * gain/sqrt(fanIn)\n",
    "    }\n",
    "}"
   ]
  },
  {
   "cell_type": "code",
   "execution_count": 24,
   "metadata": {
    "scrolled": true
   },
   "outputs": [
    {
     "data": {
      "text/plain": [
       "▿ 2 elements\n",
       "  - mean : 0.08759527\n",
       "  - stddev : 0.16413647\n"
      ]
     },
     "execution_count": 24,
     "metadata": {},
     "output_type": "execute_result"
    }
   ],
   "source": [
    "stats(leakyRelu(l1(x),0))"
   ]
  },
  {
   "cell_type": "code",
   "execution_count": 25,
   "metadata": {},
   "outputs": [],
   "source": [
    "l1.filter = Tensor<Float>(kaimingNormal: l1.filter.shape, negativeSlope: 1)"
   ]
  },
  {
   "cell_type": "code",
   "execution_count": 27,
   "metadata": {
    "scrolled": false
   },
   "outputs": [
    {
     "data": {
      "text/plain": [
       "▿ 2 elements\n",
       "  - mean : -0.009396121\n",
       "  - stddev : 1.2088604\n"
      ]
     },
     "execution_count": 27,
     "metadata": {},
     "output_type": "execute_result"
    }
   ],
   "source": [
    "stats(l1(x))"
   ]
  },
  {
   "cell_type": "code",
   "execution_count": 28,
   "metadata": {},
   "outputs": [],
   "source": [
    "l1.filter = Tensor<Float>(kaimingNormal: l1.filter.shape, negativeSlope: 0)"
   ]
  },
  {
   "cell_type": "code",
   "execution_count": 29,
   "metadata": {
    "scrolled": true
   },
   "outputs": [
    {
     "data": {
      "text/plain": [
       "▿ 2 elements\n",
       "  - mean : 0.45258158\n",
       "  - stddev : 0.8333109\n"
      ]
     },
     "execution_count": 29,
     "metadata": {},
     "output_type": "execute_result"
    }
   ],
   "source": [
    "stats(leakyRelu(l1(x),0))"
   ]
  },
  {
   "cell_type": "code",
   "execution_count": 30,
   "metadata": {},
   "outputs": [
    {
     "data": {
      "text/plain": [
       "▿ TensorShape\n",
       "  ▿ dimensions : 4 elements\n",
       "    - 0 : 5\n",
       "    - 1 : 5\n",
       "    - 2 : 1\n",
       "    - 3 : 32\n"
      ]
     },
     "execution_count": 30,
     "metadata": {},
     "output_type": "execute_result"
    }
   ],
   "source": [
    "l1.filter.shape"
   ]
  },
  {
   "cell_type": "code",
   "execution_count": 31,
   "metadata": {},
   "outputs": [
    {
     "name": "stdout",
     "output_type": "stream",
     "text": [
      "25\r\n"
     ]
    }
   ],
   "source": [
    "var receptiveField = l1.filter.shape[0..<2].contiguousSize\n",
    "print(receptiveField)"
   ]
  },
  {
   "cell_type": "code",
   "execution_count": 32,
   "metadata": {},
   "outputs": [
    {
     "name": "stdout",
     "output_type": "stream",
     "text": [
      "1 32\r\n"
     ]
    }
   ],
   "source": [
    "var ni = l1.filter.shape.dimensions[2]\n",
    "var nf = l1.filter.shape.dimensions[3]\n",
    "print(ni, nf)"
   ]
  },
  {
   "cell_type": "code",
   "execution_count": 33,
   "metadata": {},
   "outputs": [
    {
     "name": "stdout",
     "output_type": "stream",
     "text": [
      "25 800\r\n"
     ]
    }
   ],
   "source": [
    "var fanIn = receptiveField * ni\n",
    "var fanOut = receptiveField * nf\n",
    "print(fanIn, fanOut)"
   ]
  },
  {
   "cell_type": "code",
   "execution_count": 34,
   "metadata": {},
   "outputs": [],
   "source": [
    "func gain<Scalar: FloatingPoint>(\n",
    "    _ negativeSlope: Scalar\n",
    ") -> Scalar {\n",
    "    return sqrt(2/(1 + negativeSlope * negativeSlope))\n",
    "}"
   ]
  },
  {
   "cell_type": "code",
   "execution_count": 35,
   "metadata": {},
   "outputs": [
    {
     "name": "stdout",
     "output_type": "stream",
     "text": [
      "1.0 1.4142135623730951 1.4141428569978354 1.4071950894605838 0.5773502691896257\r\n"
     ]
    }
   ],
   "source": [
    "print(gain(1.0), gain(0), gain(0.01), gain(0.1), gain(sqrt(5.0)))"
   ]
  },
  {
   "cell_type": "code",
   "execution_count": null,
   "metadata": {},
   "outputs": [],
   "source": []
  },
  {
   "cell_type": "code",
   "execution_count": 36,
   "metadata": {},
   "outputs": [
    {
     "name": "stdout",
     "output_type": "stream",
     "text": [
      "-0.9998262 0.99999595 0.57644755\r\n"
     ]
    }
   ],
   "source": [
    "var rand = (Tensor<Float>(randomUniform: [10000]) * 2 - 1)\n",
    "print(rand.min(), rand.max(), rand.stddev())"
   ]
  },
  {
   "cell_type": "code",
   "execution_count": 37,
   "metadata": {
    "scrolled": true
   },
   "outputs": [
    {
     "data": {
      "text/plain": [
       "0.5773502691896258\n"
      ]
     },
     "execution_count": 37,
     "metadata": {},
     "output_type": "execute_result"
    }
   ],
   "source": [
    "1/sqrt(3)"
   ]
  },
  {
   "cell_type": "code",
   "execution_count": null,
   "metadata": {},
   "outputs": [],
   "source": []
  },
  {
   "cell_type": "code",
   "execution_count": 38,
   "metadata": {},
   "outputs": [],
   "source": [
    "public extension Tensor where Scalar : TensorFlowFloatingPoint {\n",
    "    //can handle relu and leakyRelu activations\n",
    "    //note: pytorch does neg slope 0.01 for leakyRelu and 0 for relu\n",
    "    init(kaimingUniform shape: TensorShape, negativeSlope: Scalar=0){\n",
    "        let gain: Scalar = (negativeSlope==0) ? sqrt(2.0) : sqrt(2.0/(1.0 + negativeSlope*negativeSlope))\n",
    "        \n",
    "        // see kaiming_uniform_ in:\n",
    "        // torch/nn/init.py\n",
    "        let filterDimRank = shape.rank - 2\n",
    "        let receptiveField: Scalar = Scalar(shape[0..<filterDimRank].contiguousSize)\n",
    "        let inputFmaps: Scalar = Scalar(shape[shape.rank - 2])\n",
    "//         let outputFmaps: Scalar = Scalar(shape[shape.rank - 1])\n",
    "        let fanIn: Scalar = receptiveField * inputFmaps\n",
    "//         let fanOut: Scalar = receptiveField * outputFmaps\n",
    "        let bound: Scalar = gain/sqrt(fanIn) * sqrt(3)\n",
    "        self = (Tensor(randomUniform: shape) * 2 - 1) * bound\n",
    "    }\n",
    "}"
   ]
  },
  {
   "cell_type": "code",
   "execution_count": 39,
   "metadata": {},
   "outputs": [
    {
     "data": {
      "text/plain": [
       "▿ 2 elements\n",
       "  - mean : 0.4912958\n",
       "  - stddev : 0.90035784\n"
      ]
     },
     "execution_count": 39,
     "metadata": {},
     "output_type": "execute_result"
    }
   ],
   "source": [
    "l1.filter = Tensor<Float>(kaimingUniform: l1.filter.shape, negativeSlope: 0.0)\n",
    "stats(leakyRelu(l1(x),0))"
   ]
  },
  {
   "cell_type": "code",
   "execution_count": 40,
   "metadata": {
    "scrolled": true
   },
   "outputs": [
    {
     "data": {
      "text/plain": [
       "▿ 2 elements\n",
       "  - mean : 0.21550491\n",
       "  - stddev : 0.4015568\n"
      ]
     },
     "execution_count": 40,
     "metadata": {},
     "output_type": "execute_result"
    }
   ],
   "source": [
    "l1.filter = Tensor<Float>(kaimingUniform: l1.filter.shape, negativeSlope: sqrt(5))\n",
    "stats(leakyRelu(l1(x),0))"
   ]
  },
  {
   "cell_type": "markdown",
   "metadata": {},
   "source": [
    "TODO: create adaptiveaveragepooling.\n",
    "\n",
    "looks like this is pretty doable since the tensor extension averagePooled exists"
   ]
  },
  {
   "cell_type": "code",
   "execution_count": 41,
   "metadata": {},
   "outputs": [],
   "source": [
    "public extension Conv2D where Scalar : TensorFlowFloatingPoint {\n",
    "    init(\n",
    "        kaimingUniform filterShape: (Int, Int, Int, Int),\n",
    "        strides: (Int, Int) = (3, 3),\n",
    "        padding: Padding = .valid,\n",
    "        activation: @escaping Activation = identity,\n",
    "        negativeSlope: Scalar = 0\n",
    "        ){\n",
    "        self = Conv2D<Scalar>(filterShape: filterShape, strides: strides, padding: padding, activation: activation)\n",
    "        self.filter = Tensor<Scalar>(kaimingUniform: self.filter.shape, negativeSlope: negativeSlope)\n",
    "    }\n",
    "}"
   ]
  },
  {
   "cell_type": "code",
   "execution_count": 43,
   "metadata": {},
   "outputs": [],
   "source": [
    "public struct Model<Scalar: TensorFlowFloatingPoint>: Layer {\n",
    "\n",
    "    public var conv1 = Conv2D<Scalar>(kaimingUniform: (5, 5, 1, 8), strides: (2,2), padding: .same, activation: relu)\n",
    "    public var conv2 = Conv2D<Scalar>(kaimingUniform: (3, 3, 8, 16), strides: (2,2), padding: .same, activation: relu)\n",
    "    public var conv3 = Conv2D<Scalar>(kaimingUniform: (3, 3, 16, 32), strides: (2,2), padding: .same, activation: relu)\n",
    "    public var conv4 = Conv2D<Scalar>(kaimingUniform: (3, 3, 32, 1), strides: (2,2), padding: .valid)\n",
    "    // TODO: create adaptiveaveragepool\n",
    "    public var flatten = Flatten<Scalar>()\n",
    "\n",
    "    @differentiable\n",
    "    public func call(_ input: Tensor<Scalar>) -> Tensor<Scalar> {\n",
    "        return input.sequenced(through: conv1, conv2, conv3, conv4, flatten)\n",
    "    }\n",
    "}"
   ]
  },
  {
   "cell_type": "code",
   "execution_count": 44,
   "metadata": {},
   "outputs": [],
   "source": [
    "var model = Model<Float>()"
   ]
  },
  {
   "cell_type": "code",
   "execution_count": 45,
   "metadata": {
    "scrolled": true
   },
   "outputs": [
    {
     "data": {
      "text/plain": [
       "▿ 2 elements\n",
       "  - mean : -0.3200776\n",
       "  - stddev : 1.0097516\n"
      ]
     },
     "execution_count": 45,
     "metadata": {},
     "output_type": "execute_result"
    }
   ],
   "source": [
    "var preds = model(x)\n",
    "stats(preds)"
   ]
  },
  {
   "cell_type": "code",
   "execution_count": 46,
   "metadata": {},
   "outputs": [],
   "source": [
    "var y = yValid[0..<100]"
   ]
  },
  {
   "cell_type": "code",
   "execution_count": 47,
   "metadata": {},
   "outputs": [
    {
     "data": {
      "text/plain": [
       "30.480318\n"
      ]
     },
     "execution_count": 47,
     "metadata": {},
     "output_type": "execute_result"
    }
   ],
   "source": [
    "meanSquaredError(predicted: preds, expected: y)"
   ]
  },
  {
   "cell_type": "code",
   "execution_count": 48,
   "metadata": {},
   "outputs": [],
   "source": [
    "var (preds, backprop) = model.appliedForBackpropagation(to: x)\n",
    "var (loss, grad) = preds.valueWithGradient{preds in\n",
    "                    meanSquaredError(predicted: preds,  expected: y)\n",
    "                    }\n",
    "var (𝛁model, _) = backprop(grad)"
   ]
  },
  {
   "cell_type": "code",
   "execution_count": 49,
   "metadata": {},
   "outputs": [
    {
     "data": {
      "text/plain": [
       "▿ 2 elements\n",
       "  - mean : 0.19862373\n",
       "  - stddev : 1.3952919\n"
      ]
     },
     "execution_count": 49,
     "metadata": {},
     "output_type": "execute_result"
    }
   ],
   "source": [
    "stats(𝛁model.conv1.filter)"
   ]
  }
 ],
 "metadata": {
  "kernelspec": {
   "display_name": "Swift",
   "language": "swift",
   "name": "swift"
  },
  "language_info": {
   "file_extension": ".swift",
   "mimetype": "text/x-swift",
   "name": "swift",
   "version": ""
  }
 },
 "nbformat": 4,
 "nbformat_minor": 2
}
